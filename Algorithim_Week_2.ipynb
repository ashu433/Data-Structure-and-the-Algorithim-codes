{
  "nbformat": 4,
  "nbformat_minor": 0,
  "metadata": {
    "colab": {
      "provenance": [],
      "authorship_tag": "ABX9TyO18gb49EkF8uObfZboaopZ",
      "include_colab_link": true
    },
    "kernelspec": {
      "name": "python3",
      "display_name": "Python 3"
    },
    "language_info": {
      "name": "python"
    }
  },
  "cells": [
    {
      "cell_type": "markdown",
      "metadata": {
        "id": "view-in-github",
        "colab_type": "text"
      },
      "source": [
        "<a href=\"https://colab.research.google.com/github/ashu433/Data-Structure-and-the-Algorithim-codes/blob/main/Algorithim_Week_2.ipynb\" target=\"_parent\"><img src=\"https://colab.research.google.com/assets/colab-badge.svg\" alt=\"Open In Colab\"/></a>"
      ]
    },
    {
      "cell_type": "code",
      "source": [
        "import random\n",
        "import math\n",
        "import numba\n",
        "import numpy as np\n",
        "import time\n",
        "\n",
        "################################ COMPUTATION OF THE FIBONACCHI NUMBER #############################################################\n",
        "\n",
        "############################### OPTIMIZED CODE  #############################################################\n",
        "@numba.jit(nopython=True)\n",
        "\n",
        "def fibonacchi_number(n):\n",
        "    if n==0 or n==1:\n",
        "        return n\n",
        "    elif n>0:\n",
        "        sum=0\n",
        "        array=[0,1]\n",
        "        for i in range(2,n+1):\n",
        "            fib_valu=array[i-1]+array[i-2]\n",
        "            array.append(fib_valu)\n",
        "        return array[-1]\n",
        "    else:\n",
        "        print(\"Please enter the n greater than Zero\")\n",
        "\n",
        "start=time.time()\n",
        "Fibonnachi_output=fibonacchi_number(100)\n",
        "print(Fibonnachi_output)\n",
        "end=time.time()\n",
        "\n",
        "print(f\"Time taken in total computation is {start-end}\")\n",
        "\n",
        "################################### LEAST OPTIMIZED CODE #########################################################################\n",
        "\n",
        "# def fibonacchi_number(n):\n",
        "#     if n<=1:\n",
        "#         return n\n",
        "#     else:\n",
        "#         return fibonacchi_number(n-1)+fibonacchi_number(n-2)\n",
        "\n",
        "# print(fibonacchi_number(100))"
      ],
      "metadata": {
        "colab": {
          "base_uri": "https://localhost:8080/"
        },
        "id": "Pi0xT8YGG43f",
        "outputId": "913a5a8c-9783-4ed4-a1d6-6ebfef5c9fb1"
      },
      "execution_count": 1,
      "outputs": [
        {
          "output_type": "stream",
          "name": "stdout",
          "text": [
            "3736710778780434371\n",
            "Time taken in total computation is -0.8805539608001709\n"
          ]
        }
      ]
    },
    {
      "cell_type": "code",
      "source": [
        "################################ COMPUTATION OF THE GREATEST COMMON DIVISION NUMBER #############################################################\n",
        "\n",
        "############################### OPTIMIZED CODE  #############################################################\n",
        "\n",
        "def gcd(a,b):\n",
        "    if b==0:\n",
        "        return a\n",
        "    else:\n",
        "        r=a % b\n",
        "        return gcd(b,r)\n",
        "\n",
        "start_time=time.time()\n",
        "print(gcd(3918848000000000000,165326400000000))\n",
        "end_time=time.time()\n",
        "print(f\"Time takes is {end_time-start_time}\")\n",
        "\n",
        "################################### LEAST OPTIMIZED CODE #########################################################################\n",
        "# def gcd(a,b):\n",
        "#     divisior_of_a=[]\n",
        "#     divisior_of_b=[]\n",
        "\n",
        "#     for i in range(2,a+1):\n",
        "#         x=a%i\n",
        "\n",
        "#         if x==0:\n",
        "#             divisior_of_a.append(i)\n",
        "#         else:\n",
        "#             pass\n",
        "\n",
        "#     for i in range(2,b+1):\n",
        "#         x=b%i\n",
        "\n",
        "#         if x==0:\n",
        "#             divisior_of_b.append(i)\n",
        "#         else:\n",
        "#             pass\n",
        "\n",
        "#     common_elements = [element for element in divisior_of_a if element in divisior_of_b]\n",
        "\n",
        "#     if len(common_elements)==0:\n",
        "#         print(f\"There is no greatest common divisior between {a} and {b}\")\n",
        "#     else:\n",
        "#         print(f\"The greatest common divisior between {a} and {b} is: {max(common_elements)}\")\n",
        "\n",
        "\n",
        "# start_time=time.time()\n",
        "# gcd(3918848,1653264)\n",
        "# end_time=time.time()\n",
        "# print(f\"Time takes is {end_time-start_time}\")\n"
      ],
      "metadata": {
        "id": "vHBzBG8Chvfw",
        "outputId": "f7c82a2a-a9ba-4c23-f423-ac1c18852cd2",
        "colab": {
          "base_uri": "https://localhost:8080/"
        }
      },
      "execution_count": 2,
      "outputs": [
        {
          "output_type": "stream",
          "name": "stdout",
          "text": [
            "6123200000000\n",
            "Time takes is 0.0001537799835205078\n"
          ]
        }
      ]
    },
    {
      "cell_type": "markdown",
      "source": [
        "# **Last Digit of the Sum of Fibonacci Numbers**Output Format.\n",
        "**Output the last digit of 𝐹0 + 𝐹1 + · · · + 𝐹𝑛.**"
      ],
      "metadata": {
        "id": "YdWn95nY1ze7"
      }
    },
    {
      "cell_type": "code",
      "source": [
        "import random\n",
        "import math\n",
        "import numba\n",
        "import numpy as np\n",
        "import time\n",
        "\n",
        "################################ COMPUTATION OF THE FIBONACCHI NUMBER #############################################################\n",
        "\n",
        "############################### OPTIMIZED CODE  #############################################################\n",
        "# @numba.jit(nopython=True)\n",
        "\n",
        "def fibonacchi_number(n):\n",
        "    if n==0 or n==1:\n",
        "        return n\n",
        "    elif n>0:\n",
        "        sum=0\n",
        "        array=[0,1]\n",
        "        for i in range(2,n+1):\n",
        "            fib_valu=array[i-1]+array[i-2]\n",
        "            array.append(fib_valu)\n",
        "        return array[-1]\n",
        "    else:\n",
        "        print(\"Please enter the n greater than Zero\")\n",
        "start=time.time()\n",
        "\n",
        "list_of_num=[]\n",
        "input_num=100\n",
        "\n",
        "for i in range(input_num+1):\n",
        "    Fibonnachi_output=fibonacchi_number(i)\n",
        "    list_of_num.append(Fibonnachi_output)\n",
        "\n",
        "print(f\"The sum of the fibonnachi number till {input_num} is {sum(list_of_num)} and the last digit is {sum(list_of_num)%10}\")\n",
        "end=time.time()\n",
        "\n",
        "print(f\"Time taken in total computation is {end-start}\")"
      ],
      "metadata": {
        "id": "gE2i_ABC1wVM",
        "outputId": "d76b9b9d-5700-43d4-fe2b-06c16a33e54f",
        "colab": {
          "base_uri": "https://localhost:8080/"
        }
      },
      "execution_count": 3,
      "outputs": [
        {
          "output_type": "stream",
          "name": "stdout",
          "text": [
            "The sum of the fibonnachi number till 100 is 927372692193078999175 and the last digit is 5\n",
            "Time taken in total computation is 0.0019266605377197266\n"
          ]
        }
      ]
    },
    {
      "cell_type": "markdown",
      "source": [
        "# **LCM Determination**"
      ],
      "metadata": {
        "id": "NyBDDdzV6CqJ"
      }
    },
    {
      "cell_type": "code",
      "source": [
        "def gcd(a,b):\n",
        "    if b==0:\n",
        "        return a\n",
        "    else:\n",
        "        r=a % b\n",
        "        return gcd(b,r)\n",
        "\n",
        "start_time=time.time()\n",
        "\n",
        "## num_1*num_2=GCD(num_1,num_2)*LCM(num_1,num_2)\n",
        "\n",
        "num_1=761457\n",
        "num_2=614573\n",
        "product=num_1*num_2\n",
        "GCD_out=gcd(num_1,num_2)\n",
        "LCM=product/GCD_out\n",
        "print(f\"The LCM of the {num_1} and {num_2}: {LCM}\")\n",
        "\n",
        "end_time=time.time()\n",
        "print(f\"Time takes is {end_time-start_time}\")"
      ],
      "metadata": {
        "id": "EFn1DRW16Bt7",
        "outputId": "390ed9e5-3530-4b6a-a228-03c852bbbe10",
        "colab": {
          "base_uri": "https://localhost:8080/"
        }
      },
      "execution_count": 4,
      "outputs": [
        {
          "output_type": "stream",
          "name": "stdout",
          "text": [
            "The LCM of the 761457 and 614573: 467970912861.0\n",
            "Time takes is 0.0002949237823486328\n"
          ]
        }
      ]
    }
  ]
}